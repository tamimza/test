{
  "nbformat": 4,
  "nbformat_minor": 0,
  "metadata": {
    "colab": {
      "name": "Untitled6.ipynb",
      "version": "0.3.2",
      "provenance": [],
      "include_colab_link": true
    },
    "kernelspec": {
      "name": "python3",
      "display_name": "Python 3"
    },
    "accelerator": "GPU"
  },
  "cells": [
    {
      "cell_type": "markdown",
      "metadata": {
        "id": "view-in-github",
        "colab_type": "text"
      },
      "source": [
        "<a href=\"https://colab.research.google.com/github/tamimza/test/blob/master/Untitled6.ipynb\" target=\"_parent\"><img src=\"https://colab.research.google.com/assets/colab-badge.svg\" alt=\"Open In Colab\"/></a>"
      ]
    },
    {
      "cell_type": "code",
      "metadata": {
        "id": "qWLW2jmca288",
        "colab_type": "code",
        "colab": {}
      },
      "source": [
        ""
      ],
      "execution_count": 0,
      "outputs": []
    },
    {
      "cell_type": "markdown",
      "metadata": {
        "id": "UGhv8WGscwjj",
        "colab_type": "text"
      },
      "source": [
        "trvbjknlm;,.'/'"
      ]
    },
    {
      "cell_type": "code",
      "metadata": {
        "id": "Wss0mCZsa40B",
        "colab_type": "code",
        "colab": {}
      },
      "source": [
        "import pandas as pd\n",
        "import numpy as np\n",
        "import sklearn\n",
        "from sklearn import linear_model\n",
        "from sklearn.utils import shuffle"
      ],
      "execution_count": 0,
      "outputs": []
    },
    {
      "cell_type": "markdown",
      "metadata": {
        "id": "ccIuoeTIczRG",
        "colab_type": "text"
      },
      "source": [
        "saszdxfcgvhbjnkm"
      ]
    },
    {
      "cell_type": "code",
      "metadata": {
        "id": "Q_-0ZERGbkdV",
        "colab_type": "code",
        "colab": {}
      },
      "source": [
        "data = pd.read_csv(\"student-mat.csv\", sep=\";\")\n",
        "\n",
        "data = data[[\"G1\", \"G2\", \"G3\", \"studytime\", \"failures\", \"absences\"]]\n",
        "\n",
        "predict = \"G3\"\n",
        "\n",
        "X = np.array(data.drop([predict], 1))\n",
        "y = np.array(data[predict])\n",
        "\n",
        "x_train, x_test, y_train, y_test = sklearn.model_selection.train_test_split(X, y, test_size = 0.1)\n"
      ],
      "execution_count": 0,
      "outputs": []
    },
    {
      "cell_type": "code",
      "metadata": {
        "id": "14IvgxKecfXj",
        "colab_type": "code",
        "outputId": "023cd23f-e574-4539-8188-812186b4cdaf",
        "colab": {
          "base_uri": "https://localhost:8080/",
          "height": 797
        }
      },
      "source": [
        "linear = linear_model.LinearRegression()\n",
        "\n",
        "linear.fit(x_train, y_train)\n",
        "acc = linear.score(x_test, y_test)\n",
        "print(acc)\n",
        "\n",
        "print('Coefficient: \\n', linear.coef_)\n",
        "print('Intercept: \\n', linear.intercept_)\n",
        "\n",
        "predictions = linear.predict(x_test)\n",
        "\n",
        "for x in range(len(predictions)):\n",
        "    print(predictions[x], x_test[x], y_test[x])"
      ],
      "execution_count": 0,
      "outputs": [
        {
          "output_type": "stream",
          "text": [
            "0.8989848476842821\n",
            "Coefficient: \n",
            " [ 0.17196224  0.97134841 -0.19910882 -0.20213812  0.04549107]\n",
            "Intercept: \n",
            " -1.6473969392794618\n",
            "14.206534329239751 [15 14  3  0  6] 14\n",
            "8.254183291740155 [8 9 2 0 4] 10\n",
            "18.40870586711506 [18 18  4  0  6] 18\n",
            "6.402468604607451 [8 7 2 0 6] 9\n",
            "10.791681002404848 [ 9  9  2  0 56] 8\n",
            "10.496513455740198 [11 11  4  0  8] 10\n",
            "10.449822456755966 [10 11  2  0  2] 11\n",
            "19.46103438285906 [19 19  4  0  4] 20\n",
            "6.793543720047531 [ 7  7  1  0 14] 5\n",
            "19.006032327926206 [18 18  1  0  6] 18\n",
            "13.916903014014302 [11 14  1  0  6] 14\n",
            "15.023065053843213 [14 15  2  0  2] 15\n",
            "-0.8418789072293564 [7 0 2 0 0] 0\n",
            "9.043567435014788 [ 8 10  2  0  0] 12\n",
            "5.523107842289357 [8 7 2 3 0] 0\n",
            "19.317327270172875 [17 18  2  0 21] 18\n",
            "14.9320829203154 [14 15  2  0  0] 15\n",
            "4.476746539867241 [ 6  5  1  1 14] 5\n",
            "12.925380750161452 [11 13  1  1 10] 13\n",
            "15.195027292784763 [15 15  2  0  2] 16\n",
            "11.815899568746403 [14 12  2  1  0] 12\n",
            "19.622733409098302 [18 18  1  1 24] 18\n",
            "8.498783178774442 [8 9 1 0 5] 9\n",
            "9.224980676203877 [11  9  2  0 14] 9\n",
            "10.800719662445307 [11 11  1  1  6] 10\n",
            "11.892766449367299 [14 12  4  0  6] 13\n",
            "15.286009426312576 [15 15  2  0  4] 15\n",
            "13.463192278595562 [12 14  3  0  1] 15\n",
            "14.250825463783332 [14 14  1  0  2] 14\n",
            "12.601170487228194 [13 13  4  0  4] 12\n",
            "8.871605196073236 [ 7 10  2  0  0] 11\n",
            "5.97856953579496 [5 8 2 3 0] 7\n",
            "16.166375703115023 [15 16  2  0  2] 16\n",
            "12.618315040442948 [13 13  3  0  0] 13\n",
            "13.943589956770387 [14 14  3  0  4] 14\n",
            "11.734919463332664 [13 12  2  1  2] 12\n",
            "16.44646462879914 [16 16  1  0  0] 15\n",
            "7.798551800940109 [ 9  8  2  1 16] 7\n",
            "12.564481516358036 [11 13  2  0  2] 13\n",
            "7.464799148465524 [8 8 2 0 8] 6\n"
          ],
          "name": "stdout"
        }
      ]
    },
    {
      "cell_type": "code",
      "metadata": {
        "id": "XAkuVIN0cl3m",
        "colab_type": "code",
        "outputId": "3e83c020-7115-4f54-f216-f985a51d0ba1",
        "colab": {
          "base_uri": "https://localhost:8080/",
          "height": 35
        }
      },
      "source": [
        "import tensorflow as tf\n",
        "device_name = tf.test.gpu_device_name()\n",
        "if device_name != '/device:GPU:0':\n",
        "  raise SystemError('GPU device not found')\n",
        "print('Found GPU at: {}'.format(device_name))"
      ],
      "execution_count": 0,
      "outputs": [
        {
          "output_type": "stream",
          "text": [
            "Found GPU at: /device:GPU:0\n"
          ],
          "name": "stdout"
        }
      ]
    }
  ]
}